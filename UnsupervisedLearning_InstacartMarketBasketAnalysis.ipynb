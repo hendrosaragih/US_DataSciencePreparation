{
  "nbformat": 4,
  "nbformat_minor": 0,
  "metadata": {
    "colab": {
      "name": "UnsupervisedLearning_InstacartMarketBasketAnalysis.ipynb",
      "provenance": [],
      "private_outputs": true,
      "collapsed_sections": [],
      "authorship_tag": "ABX9TyMrvnf0tcXgijffWkO2Zs+E",
      "include_colab_link": true
    },
    "kernelspec": {
      "name": "python3",
      "display_name": "Python 3"
    }
  },
  "cells": [
    {
      "cell_type": "markdown",
      "metadata": {
        "id": "view-in-github",
        "colab_type": "text"
      },
      "source": [
        "<a href=\"https://colab.research.google.com/github/hendrosaragih/US_DataSciencePreparation/blob/master/UnsupervisedLearning_InstacartMarketBasketAnalysis.ipynb\" target=\"_parent\"><img src=\"https://colab.research.google.com/assets/colab-badge.svg\" alt=\"Open In Colab\"/></a>"
      ]
    },
    {
      "cell_type": "code",
      "metadata": {
        "id": "iG-Swg84sOq5"
      },
      "source": [
        "!pip install kaggle\n",
        "from google.colab import files\n",
        "files.upload()"
      ],
      "execution_count": null,
      "outputs": []
    },
    {
      "cell_type": "code",
      "metadata": {
        "id": "YR1Gg1zksYwu"
      },
      "source": [
        "!mkdir -p ~/.kaggle\n",
        "!cp kaggle.json ~/.kaggle/\n",
        "!chmod 600 ~/.kaggle/kaggle.json"
      ],
      "execution_count": null,
      "outputs": []
    },
    {
      "cell_type": "code",
      "metadata": {
        "id": "7q36KtiyuZy9"
      },
      "source": [
        "!kaggle competitions download -c instacart-market-basket-analysis"
      ],
      "execution_count": null,
      "outputs": []
    },
    {
      "cell_type": "code",
      "metadata": {
        "id": "ii8kla7OvCPi"
      },
      "source": [
        "!unzip order_products__train.csv.zip\n",
        "!unzip products.csv.zip\n",
        "!unzip orders.csv.zip"
      ],
      "execution_count": null,
      "outputs": []
    },
    {
      "cell_type": "code",
      "metadata": {
        "id": "JujtVlB8vIa_"
      },
      "source": [
        "import pandas as pd\n",
        "import matplotlib.pyplot as plt\n",
        "import numpy as np\n",
        "import seaborn as sns"
      ],
      "execution_count": null,
      "outputs": []
    },
    {
      "cell_type": "code",
      "metadata": {
        "id": "JIrM8jQHv10d"
      },
      "source": [
        "orders = pd.read_csv('orders.csv', index_col='order_id')\n",
        "products = pd.read_csv('products.csv', index_col='product_id')\n",
        "order_products_train = pd.read_csv('order_products__train.csv')"
      ],
      "execution_count": null,
      "outputs": []
    },
    {
      "cell_type": "code",
      "metadata": {
        "id": "2ERmE4Mjv9Jk"
      },
      "source": [
        "len(products), len(orders), len(order_products_train)"
      ],
      "execution_count": null,
      "outputs": []
    },
    {
      "cell_type": "code",
      "metadata": {
        "id": "pgYt9ZZw4eMZ"
      },
      "source": [
        "order_products_train.groupby('product_id').reordered.head()"
      ],
      "execution_count": null,
      "outputs": []
    },
    {
      "cell_type": "code",
      "metadata": {
        "id": "XhO0XVhB4vZM"
      },
      "source": [
        "order_products_train.groupby('product_id').reordered.sum().head()"
      ],
      "execution_count": null,
      "outputs": []
    },
    {
      "cell_type": "code",
      "metadata": {
        "id": "J6kNTxrc5H33"
      },
      "source": [
        "order_products_train.product_id.value_counts().to_frame('sold').head()"
      ],
      "execution_count": null,
      "outputs": []
    },
    {
      "cell_type": "code",
      "metadata": {
        "id": "f6KLdYJt6IFQ"
      },
      "source": [
        "orders.head()"
      ],
      "execution_count": null,
      "outputs": []
    },
    {
      "cell_type": "code",
      "metadata": {
        "id": "6y7PM0sp6UHL"
      },
      "source": [
        "odot = pd.merge(left=order_products_train, right=orders[['order_dow','order_hour_of_day','days_since_prior_order']], left_on='order_id', right_index=True).groupby('product_id').order_hour_of_day.mean().to_frame('odot')"
      ],
      "execution_count": null,
      "outputs": []
    },
    {
      "cell_type": "code",
      "metadata": {
        "id": "-t04zRdc7X8o"
      },
      "source": [
        "odot.head()"
      ],
      "execution_count": null,
      "outputs": []
    },
    {
      "cell_type": "code",
      "metadata": {
        "id": "rr_FoS2U7Ztw"
      },
      "source": [
        "temp = pd.merge(left=products,\n",
        "                right=order_products_train.groupby('product_id').reordered.sum().to_frame('reordered'),\n",
        "                left_index=True, right_index=True)"
      ],
      "execution_count": null,
      "outputs": []
    },
    {
      "cell_type": "code",
      "metadata": {
        "id": "by3pZF0r8PGX"
      },
      "source": [
        "temp = pd.merge(left=temp,\n",
        "                right=order_products_train.product_id.value_counts().to_frame('sold'),\n",
        "                left_index=True, right_index=True)"
      ],
      "execution_count": null,
      "outputs": []
    },
    {
      "cell_type": "code",
      "metadata": {
        "id": "G1X4k2ls-v_J"
      },
      "source": [
        "temp = pd.merge(left=temp,\n",
        "                right=odot,\n",
        "                left_index=True, right_index=True)"
      ],
      "execution_count": null,
      "outputs": []
    },
    {
      "cell_type": "code",
      "metadata": {
        "id": "bq0lM7En8uFD"
      },
      "source": [
        "temp['reorder_rate'] = temp['reordered']/temp['sold']"
      ],
      "execution_count": null,
      "outputs": []
    },
    {
      "cell_type": "code",
      "metadata": {
        "id": "_TQ78-RL-ApG"
      },
      "source": [
        "temp.head()"
      ],
      "execution_count": null,
      "outputs": []
    },
    {
      "cell_type": "code",
      "metadata": {
        "id": "qs7dRZ1n_y9v"
      },
      "source": [
        ""
      ],
      "execution_count": null,
      "outputs": []
    }
  ]
}